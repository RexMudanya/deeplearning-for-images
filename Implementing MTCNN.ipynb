{
 "cells": [
  {
   "cell_type": "markdown",
   "metadata": {},
   "source": [
    "## MTCNN on Live Video Feed"
   ]
  },
  {
   "cell_type": "code",
   "execution_count": 1,
   "metadata": {},
   "outputs": [
    {
     "name": "stderr",
     "output_type": "stream",
     "text": [
      "/usr/local/lib/python3.6/dist-packages/tensorflow/python/framework/dtypes.py:523: FutureWarning: Passing (type, 1) or '1type' as a synonym of type is deprecated; in a future version of numpy, it will be understood as (type, (1,)) / '(1,)type'.\n",
      "  _np_qint8 = np.dtype([(\"qint8\", np.int8, 1)])\n",
      "/usr/local/lib/python3.6/dist-packages/tensorflow/python/framework/dtypes.py:524: FutureWarning: Passing (type, 1) or '1type' as a synonym of type is deprecated; in a future version of numpy, it will be understood as (type, (1,)) / '(1,)type'.\n",
      "  _np_quint8 = np.dtype([(\"quint8\", np.uint8, 1)])\n",
      "/usr/local/lib/python3.6/dist-packages/tensorflow/python/framework/dtypes.py:525: FutureWarning: Passing (type, 1) or '1type' as a synonym of type is deprecated; in a future version of numpy, it will be understood as (type, (1,)) / '(1,)type'.\n",
      "  _np_qint16 = np.dtype([(\"qint16\", np.int16, 1)])\n",
      "/usr/local/lib/python3.6/dist-packages/tensorflow/python/framework/dtypes.py:526: FutureWarning: Passing (type, 1) or '1type' as a synonym of type is deprecated; in a future version of numpy, it will be understood as (type, (1,)) / '(1,)type'.\n",
      "  _np_quint16 = np.dtype([(\"quint16\", np.uint16, 1)])\n",
      "/usr/local/lib/python3.6/dist-packages/tensorflow/python/framework/dtypes.py:527: FutureWarning: Passing (type, 1) or '1type' as a synonym of type is deprecated; in a future version of numpy, it will be understood as (type, (1,)) / '(1,)type'.\n",
      "  _np_qint32 = np.dtype([(\"qint32\", np.int32, 1)])\n",
      "/usr/local/lib/python3.6/dist-packages/tensorflow/python/framework/dtypes.py:532: FutureWarning: Passing (type, 1) or '1type' as a synonym of type is deprecated; in a future version of numpy, it will be understood as (type, (1,)) / '(1,)type'.\n",
      "  np_resource = np.dtype([(\"resource\", np.ubyte, 1)])\n"
     ]
    }
   ],
   "source": [
    "# importing modules\n",
    "import cv2\n",
    "from mtcnn.mtcnn import MTCNN"
   ]
  },
  {
   "cell_type": "code",
   "execution_count": 2,
   "metadata": {},
   "outputs": [],
   "source": [
    "detector = MTCNN()"
   ]
  },
  {
   "cell_type": "raw",
   "metadata": {},
   "source": [
    "Create video capture to use webcam\n",
    "cap.read() returns boolean of whether or not a frame is read, returns false if an error occurs breaking the while loop."
   ]
  },
  {
   "cell_type": "code",
   "execution_count": 5,
   "metadata": {},
   "outputs": [
    {
     "name": "stdout",
     "output_type": "stream",
     "text": [
      "\n",
      "result:  [{'box': [526, 198, 106, 128], 'confidence': 0.9988734126091003, 'keypoints': {'left_eye': (547, 251), 'right_eye': (594, 245), 'nose': (568, 274), 'mouth_left': (559, 302), 'mouth_right': (600, 297)}}, {'box': [168, 178, 59, 69], 'confidence': 0.9466414451599121, 'keypoints': {'left_eye': (184, 210), 'right_eye': (209, 200), 'nose': (201, 218), 'mouth_left': (196, 236), 'mouth_right': (217, 229)}}] \n",
      "\n",
      "\n",
      "result:  [{'box': [524, 199, 105, 124], 'confidence': 0.9997549653053284, 'keypoints': {'left_eye': (546, 251), 'right_eye': (592, 245), 'nose': (567, 275), 'mouth_left': (559, 301), 'mouth_right': (598, 296)}}, {'box': [169, 179, 57, 68], 'confidence': 0.9901166558265686, 'keypoints': {'left_eye': (184, 210), 'right_eye': (210, 201), 'nose': (201, 219), 'mouth_left': (196, 237), 'mouth_right': (216, 231)}}] \n",
      "\n",
      "\n",
      "result:  [{'box': [525, 198, 104, 125], 'confidence': 0.9995137453079224, 'keypoints': {'left_eye': (546, 251), 'right_eye': (593, 245), 'nose': (567, 274), 'mouth_left': (558, 301), 'mouth_right': (598, 296)}}, {'box': [168, 178, 58, 69], 'confidence': 0.9922322034835815, 'keypoints': {'left_eye': (184, 210), 'right_eye': (210, 202), 'nose': (201, 219), 'mouth_left': (195, 236), 'mouth_right': (217, 229)}}] \n",
      "\n",
      "\n",
      "result:  [{'box': [525, 199, 105, 123], 'confidence': 0.9998196959495544, 'keypoints': {'left_eye': (546, 252), 'right_eye': (592, 245), 'nose': (566, 275), 'mouth_left': (559, 300), 'mouth_right': (598, 296)}}, {'box': [167, 179, 59, 69], 'confidence': 0.9913023710250854, 'keypoints': {'left_eye': (183, 211), 'right_eye': (209, 201), 'nose': (201, 220), 'mouth_left': (195, 238), 'mouth_right': (217, 231)}}] \n",
      "\n",
      "\n",
      "result:  [{'box': [522, 195, 106, 128], 'confidence': 0.9995825886726379, 'keypoints': {'left_eye': (545, 249), 'right_eye': (593, 244), 'nose': (567, 275), 'mouth_left': (557, 300), 'mouth_right': (598, 296)}}, {'box': [167, 180, 59, 67], 'confidence': 0.9952995777130127, 'keypoints': {'left_eye': (183, 211), 'right_eye': (209, 201), 'nose': (201, 220), 'mouth_left': (195, 237), 'mouth_right': (217, 229)}}] \n",
      "\n",
      "\n",
      "result:  [{'box': [523, 201, 104, 122], 'confidence': 0.9998705387115479, 'keypoints': {'left_eye': (544, 252), 'right_eye': (591, 246), 'nose': (565, 276), 'mouth_left': (557, 302), 'mouth_right': (597, 296)}}, {'box': [167, 178, 59, 71], 'confidence': 0.99365234375, 'keypoints': {'left_eye': (183, 211), 'right_eye': (208, 202), 'nose': (200, 220), 'mouth_left': (195, 238), 'mouth_right': (216, 231)}}] \n",
      "\n",
      "\n",
      "result:  [{'box': [524, 201, 103, 123], 'confidence': 0.9993129968643188, 'keypoints': {'left_eye': (543, 253), 'right_eye': (589, 247), 'nose': (563, 277), 'mouth_left': (556, 302), 'mouth_right': (594, 297)}}, {'box': [164, 176, 60, 70], 'confidence': 0.9891007542610168, 'keypoints': {'left_eye': (182, 207), 'right_eye': (210, 199), 'nose': (200, 218), 'mouth_left': (193, 234), 'mouth_right': (216, 228)}}] \n",
      "\n",
      "\n",
      "result:  [{'box': [513, 200, 107, 134], 'confidence': 0.9904928803443909, 'keypoints': {'left_eye': (531, 258), 'right_eye': (574, 252), 'nose': (545, 285), 'mouth_left': (541, 311), 'mouth_right': (578, 306)}}, {'box': [163, 176, 61, 71], 'confidence': 0.9863947629928589, 'keypoints': {'left_eye': (182, 207), 'right_eye': (210, 199), 'nose': (201, 219), 'mouth_left': (193, 235), 'mouth_right': (216, 229)}}] \n",
      "\n",
      "\n",
      "result:  [{'box': [162, 176, 62, 72], 'confidence': 0.9888181090354919, 'keypoints': {'left_eye': (183, 208), 'right_eye': (210, 200), 'nose': (201, 220), 'mouth_left': (193, 236), 'mouth_right': (216, 230)}}, {'box': [512, 209, 102, 129], 'confidence': 0.9543064832687378, 'keypoints': {'left_eye': (527, 261), 'right_eye': (570, 257), 'nose': (538, 287), 'mouth_left': (533, 318), 'mouth_right': (569, 314)}}] \n",
      "\n",
      "\n",
      "result:  [{'box': [166, 179, 58, 69], 'confidence': 0.990525484085083, 'keypoints': {'left_eye': (182, 211), 'right_eye': (208, 201), 'nose': (199, 220), 'mouth_left': (193, 237), 'mouth_right': (215, 230)}}, {'box': [508, 211, 102, 128], 'confidence': 0.9878019690513611, 'keypoints': {'left_eye': (532, 264), 'right_eye': (575, 258), 'nose': (549, 289), 'mouth_left': (539, 317), 'mouth_right': (577, 313)}}] \n",
      "\n",
      "\n",
      "result:  [{'box': [506, 205, 104, 130], 'confidence': 0.9683162569999695, 'keypoints': {'left_eye': (531, 262), 'right_eye': (573, 256), 'nose': (547, 289), 'mouth_left': (539, 316), 'mouth_right': (575, 312)}}, {'box': [162, 175, 62, 74], 'confidence': 0.9265857934951782, 'keypoints': {'left_eye': (181, 209), 'right_eye': (208, 201), 'nose': (198, 220), 'mouth_left': (191, 237), 'mouth_right': (214, 231)}}] \n",
      "\n",
      "\n",
      "result:  [{'box': [162, 176, 62, 71], 'confidence': 0.993255615234375, 'keypoints': {'left_eye': (182, 207), 'right_eye': (209, 200), 'nose': (199, 219), 'mouth_left': (192, 235), 'mouth_right': (215, 229)}}, {'box': [507, 207, 104, 127], 'confidence': 0.9358673095703125, 'keypoints': {'left_eye': (530, 258), 'right_eye': (574, 253), 'nose': (546, 284), 'mouth_left': (538, 312), 'mouth_right': (574, 307)}}] \n",
      "\n",
      "\n",
      "result:  [{'box': [167, 179, 58, 71], 'confidence': 0.9886653423309326, 'keypoints': {'left_eye': (183, 211), 'right_eye': (209, 201), 'nose': (200, 220), 'mouth_left': (195, 238), 'mouth_right': (216, 231)}}, {'box': [508, 210, 102, 128], 'confidence': 0.98415607213974, 'keypoints': {'left_eye': (528, 263), 'right_eye': (571, 256), 'nose': (544, 288), 'mouth_left': (538, 316), 'mouth_right': (573, 311)}}] \n",
      "\n",
      "\n",
      "result:  [{'box': [508, 209, 102, 127], 'confidence': 0.984961748123169, 'keypoints': {'left_eye': (528, 261), 'right_eye': (572, 256), 'nose': (544, 288), 'mouth_left': (537, 315), 'mouth_right': (572, 311)}}, {'box': [162, 174, 62, 75], 'confidence': 0.9711296558380127, 'keypoints': {'left_eye': (182, 208), 'right_eye': (210, 199), 'nose': (201, 220), 'mouth_left': (194, 236), 'mouth_right': (216, 229)}}] \n",
      "\n",
      "\n",
      "result:  [{'box': [163, 175, 61, 74], 'confidence': 0.9906280040740967, 'keypoints': {'left_eye': (182, 207), 'right_eye': (209, 200), 'nose': (200, 219), 'mouth_left': (193, 236), 'mouth_right': (215, 230)}}, {'box': [505, 212, 104, 125], 'confidence': 0.9875592589378357, 'keypoints': {'left_eye': (529, 266), 'right_eye': (571, 259), 'nose': (546, 292), 'mouth_left': (540, 316), 'mouth_right': (574, 311)}}] \n",
      "\n",
      "\n",
      "result:  [{'box': [506, 208, 103, 128], 'confidence': 0.9847404360771179, 'keypoints': {'left_eye': (529, 264), 'right_eye': (571, 257), 'nose': (547, 291), 'mouth_left': (539, 316), 'mouth_right': (575, 311)}}, {'box': [164, 177, 61, 74], 'confidence': 0.9812817573547363, 'keypoints': {'left_eye': (183, 209), 'right_eye': (210, 201), 'nose': (201, 220), 'mouth_left': (194, 237), 'mouth_right': (217, 230)}}] \n",
      "\n",
      "\n",
      "result:  [{'box': [505, 211, 102, 123], 'confidence': 0.9917015433311462, 'keypoints': {'left_eye': (528, 264), 'right_eye': (570, 257), 'nose': (544, 289), 'mouth_left': (539, 315), 'mouth_right': (573, 309)}}, {'box': [163, 177, 61, 72], 'confidence': 0.9847924709320068, 'keypoints': {'left_eye': (183, 209), 'right_eye': (210, 200), 'nose': (201, 220), 'mouth_left': (194, 237), 'mouth_right': (217, 230)}}] \n",
      "\n",
      "\n",
      "result:  [{'box': [163, 175, 62, 73], 'confidence': 0.9910030364990234, 'keypoints': {'left_eye': (183, 208), 'right_eye': (211, 200), 'nose': (203, 220), 'mouth_left': (194, 237), 'mouth_right': (218, 230)}}, {'box': [507, 209, 101, 126], 'confidence': 0.9741662740707397, 'keypoints': {'left_eye': (530, 264), 'right_eye': (572, 259), 'nose': (547, 291), 'mouth_left': (539, 316), 'mouth_right': (574, 312)}}] \n",
      "\n",
      "\n",
      "result:  [{'box': [164, 177, 61, 73], 'confidence': 0.9966981410980225, 'keypoints': {'left_eye': (185, 209), 'right_eye': (212, 201), 'nose': (204, 220), 'mouth_left': (196, 237), 'mouth_right': (219, 231)}}, {'box': [504, 211, 104, 126], 'confidence': 0.9879911541938782, 'keypoints': {'left_eye': (528, 265), 'right_eye': (570, 257), 'nose': (545, 291), 'mouth_left': (540, 318), 'mouth_right': (575, 311)}}] \n",
      "\n",
      "\n",
      "result:  [{'box': [165, 177, 60, 72], 'confidence': 0.99616539478302, 'keypoints': {'left_eye': (185, 210), 'right_eye': (213, 202), 'nose': (204, 221), 'mouth_left': (196, 239), 'mouth_right': (219, 232)}}, {'box': [500, 211, 105, 125], 'confidence': 0.9696738719940186, 'keypoints': {'left_eye': (523, 267), 'right_eye': (564, 256), 'nose': (542, 290), 'mouth_left': (538, 317), 'mouth_right': (572, 308)}}] \n",
      "\n"
     ]
    },
    {
     "name": "stdout",
     "output_type": "stream",
     "text": [
      "\n",
      "result:  [{'box': [510, 208, 104, 128], 'confidence': 0.9969940185546875, 'keypoints': {'left_eye': (530, 263), 'right_eye': (575, 251), 'nose': (552, 283), 'mouth_left': (547, 314), 'mouth_right': (584, 305)}}, {'box': [166, 178, 62, 72], 'confidence': 0.9947085380554199, 'keypoints': {'left_eye': (186, 209), 'right_eye': (214, 202), 'nose': (205, 222), 'mouth_left': (196, 238), 'mouth_right': (220, 232)}}] \n",
      "\n",
      "\n",
      "result:  [{'box': [166, 177, 62, 74], 'confidence': 0.9945153594017029, 'keypoints': {'left_eye': (186, 210), 'right_eye': (214, 203), 'nose': (205, 222), 'mouth_left': (197, 240), 'mouth_right': (220, 234)}}, {'box': [519, 202, 108, 134], 'confidence': 0.9917981624603271, 'keypoints': {'left_eye': (540, 258), 'right_eye': (586, 250), 'nose': (561, 284), 'mouth_left': (555, 311), 'mouth_right': (593, 304)}}] \n",
      "\n",
      "\n",
      "result:  [{'box': [523, 203, 104, 125], 'confidence': 0.9980249404907227, 'keypoints': {'left_eye': (543, 257), 'right_eye': (589, 249), 'nose': (564, 281), 'mouth_left': (557, 306), 'mouth_right': (595, 300)}}, {'box': [166, 177, 61, 73], 'confidence': 0.9960604310035706, 'keypoints': {'left_eye': (186, 210), 'right_eye': (214, 203), 'nose': (204, 223), 'mouth_left': (196, 239), 'mouth_right': (219, 234)}}] \n",
      "\n",
      "\n",
      "result:  [{'box': [520, 201, 107, 131], 'confidence': 0.9946432113647461, 'keypoints': {'left_eye': (543, 257), 'right_eye': (588, 248), 'nose': (563, 281), 'mouth_left': (557, 307), 'mouth_right': (595, 300)}}, {'box': [166, 177, 62, 76], 'confidence': 0.9934292435646057, 'keypoints': {'left_eye': (186, 211), 'right_eye': (214, 203), 'nose': (205, 224), 'mouth_left': (196, 241), 'mouth_right': (220, 235)}}] \n",
      "\n",
      "\n",
      "result:  [{'box': [520, 202, 106, 130], 'confidence': 0.9961584210395813, 'keypoints': {'left_eye': (542, 257), 'right_eye': (587, 250), 'nose': (562, 283), 'mouth_left': (557, 308), 'mouth_right': (594, 301)}}, {'box': [165, 176, 63, 76], 'confidence': 0.9888643026351929, 'keypoints': {'left_eye': (186, 210), 'right_eye': (214, 203), 'nose': (206, 223), 'mouth_left': (196, 240), 'mouth_right': (220, 234)}}] \n",
      "\n",
      "\n",
      "result:  [{'box': [521, 204, 104, 125], 'confidence': 0.9973013997077942, 'keypoints': {'left_eye': (542, 257), 'right_eye': (587, 249), 'nose': (564, 282), 'mouth_left': (558, 309), 'mouth_right': (594, 301)}}, {'box': [167, 178, 60, 72], 'confidence': 0.9971430897712708, 'keypoints': {'left_eye': (186, 210), 'right_eye': (214, 203), 'nose': (205, 222), 'mouth_left': (196, 239), 'mouth_right': (219, 233)}}] \n",
      "\n",
      "\n",
      "result:  [{'box': [521, 206, 104, 124], 'confidence': 0.9986327290534973, 'keypoints': {'left_eye': (542, 257), 'right_eye': (587, 250), 'nose': (562, 282), 'mouth_left': (556, 309), 'mouth_right': (592, 303)}}, {'box': [170, 179, 59, 69], 'confidence': 0.9954288005828857, 'keypoints': {'left_eye': (189, 209), 'right_eye': (216, 202), 'nose': (207, 221), 'mouth_left': (198, 236), 'mouth_right': (221, 231)}}] \n",
      "\n",
      "\n",
      "result:  [{'box': [519, 202, 105, 128], 'confidence': 0.9962621331214905, 'keypoints': {'left_eye': (542, 256), 'right_eye': (588, 249), 'nose': (564, 281), 'mouth_left': (557, 307), 'mouth_right': (595, 300)}}, {'box': [171, 180, 56, 67], 'confidence': 0.9960277080535889, 'keypoints': {'left_eye': (190, 209), 'right_eye': (217, 205), 'nose': (208, 221), 'mouth_left': (197, 236), 'mouth_right': (220, 232)}}] \n",
      "\n",
      "\n",
      "result:  [{'box': [173, 177, 57, 70], 'confidence': 0.9989604949951172, 'keypoints': {'left_eye': (191, 208), 'right_eye': (219, 204), 'nose': (207, 220), 'mouth_left': (196, 235), 'mouth_right': (220, 232)}}, {'box': [520, 200, 105, 127], 'confidence': 0.9974645376205444, 'keypoints': {'left_eye': (543, 253), 'right_eye': (589, 248), 'nose': (563, 280), 'mouth_left': (555, 305), 'mouth_right': (593, 300)}}] \n",
      "\n",
      "\n",
      "result:  [{'box': [524, 202, 104, 128], 'confidence': 0.9981414079666138, 'keypoints': {'left_eye': (546, 254), 'right_eye': (593, 248), 'nose': (567, 279), 'mouth_left': (559, 305), 'mouth_right': (598, 300)}}, {'box': [174, 178, 57, 70], 'confidence': 0.99777752161026, 'keypoints': {'left_eye': (192, 208), 'right_eye': (219, 205), 'nose': (208, 221), 'mouth_left': (197, 235), 'mouth_right': (221, 233)}}] \n",
      "\n",
      "\n",
      "result:  [{'box': [525, 203, 102, 123], 'confidence': 0.9989073276519775, 'keypoints': {'left_eye': (548, 253), 'right_eye': (595, 248), 'nose': (570, 279), 'mouth_left': (561, 304), 'mouth_right': (599, 299)}}, {'box': [169, 180, 58, 72], 'confidence': 0.997612476348877, 'keypoints': {'left_eye': (187, 211), 'right_eye': (216, 208), 'nose': (204, 225), 'mouth_left': (192, 238), 'mouth_right': (217, 235)}}] \n",
      "\n",
      "\n",
      "result:  [{'box': [526, 204, 103, 124], 'confidence': 0.9993228912353516, 'keypoints': {'left_eye': (547, 254), 'right_eye': (594, 249), 'nose': (568, 280), 'mouth_left': (560, 306), 'mouth_right': (597, 301)}}, {'box': [161, 182, 59, 73], 'confidence': 0.993599534034729, 'keypoints': {'left_eye': (178, 212), 'right_eye': (206, 208), 'nose': (195, 225), 'mouth_left': (184, 239), 'mouth_right': (210, 236)}}] \n",
      "\n",
      "\n",
      "result:  [{'box': [526, 203, 104, 126], 'confidence': 0.9996166229248047, 'keypoints': {'left_eye': (548, 254), 'right_eye': (595, 248), 'nose': (570, 277), 'mouth_left': (562, 305), 'mouth_right': (601, 299)}}] \n",
      "\n",
      "\n",
      "result:  [{'box': [527, 203, 102, 121], 'confidence': 0.9994189739227295, 'keypoints': {'left_eye': (548, 254), 'right_eye': (594, 248), 'nose': (569, 279), 'mouth_left': (561, 303), 'mouth_right': (599, 297)}}, {'box': [152, 180, 57, 71], 'confidence': 0.9954973459243774, 'keypoints': {'left_eye': (171, 211), 'right_eye': (199, 209), 'nose': (187, 225), 'mouth_left': (174, 238), 'mouth_right': (199, 236)}}] \n",
      "\n",
      "\n",
      "result:  [{'box': [525, 199, 105, 127], 'confidence': 0.9991278052330017, 'keypoints': {'left_eye': (548, 251), 'right_eye': (596, 246), 'nose': (571, 278), 'mouth_left': (560, 302), 'mouth_right': (601, 297)}}, {'box': [170, 174, 57, 74], 'confidence': 0.9988754391670227, 'keypoints': {'left_eye': (186, 205), 'right_eye': (214, 205), 'nose': (199, 219), 'mouth_left': (187, 232), 'mouth_right': (211, 234)}}] \n",
      "\n",
      "\n",
      "result:  [{'box': [527, 202, 105, 126], 'confidence': 0.9994044303894043, 'keypoints': {'left_eye': (548, 252), 'right_eye': (596, 247), 'nose': (569, 276), 'mouth_left': (561, 302), 'mouth_right': (600, 298)}}, {'box': [196, 179, 52, 67], 'confidence': 0.9983610510826111, 'keypoints': {'left_eye': (211, 206), 'right_eye': (237, 206), 'nose': (224, 219), 'mouth_left': (213, 232), 'mouth_right': (236, 233)}}] \n",
      "\n",
      "\n",
      "result:  [{'box': [527, 204, 102, 121], 'confidence': 0.999474823474884, 'keypoints': {'left_eye': (548, 253), 'right_eye': (594, 248), 'nose': (569, 278), 'mouth_left': (560, 303), 'mouth_right': (598, 298)}}, {'box': [226, 190, 48, 61], 'confidence': 0.9970697164535522, 'keypoints': {'left_eye': (240, 215), 'right_eye': (264, 214), 'nose': (251, 228), 'mouth_left': (241, 239), 'mouth_right': (262, 240)}}] \n",
      "\n",
      "\n",
      "result:  [{'box': [525, 202, 104, 124], 'confidence': 0.99955815076828, 'keypoints': {'left_eye': (547, 252), 'right_eye': (594, 247), 'nose': (568, 278), 'mouth_left': (560, 303), 'mouth_right': (598, 299)}}, {'box': [247, 199, 47, 61], 'confidence': 0.9938338994979858, 'keypoints': {'left_eye': (260, 222), 'right_eye': (285, 224), 'nose': (271, 237), 'mouth_left': (260, 247), 'mouth_right': (280, 250)}}] \n",
      "\n",
      "\n",
      "result:  [{'box': [525, 202, 104, 124], 'confidence': 0.9994127750396729, 'keypoints': {'left_eye': (547, 253), 'right_eye': (593, 247), 'nose': (568, 279), 'mouth_left': (560, 305), 'mouth_right': (598, 299)}}, {'box': [251, 199, 51, 65], 'confidence': 0.9988728165626526, 'keypoints': {'left_eye': (265, 224), 'right_eye': (291, 227), 'nose': (276, 240), 'mouth_left': (265, 251), 'mouth_right': (286, 254)}}] \n",
      "\n",
      "\n",
      "result:  [{'box': [524, 201, 105, 125], 'confidence': 0.9996930360794067, 'keypoints': {'left_eye': (546, 251), 'right_eye': (593, 247), 'nose': (566, 277), 'mouth_left': (558, 304), 'mouth_right': (594, 299)}}, {'box': [251, 199, 50, 64], 'confidence': 0.999226450920105, 'keypoints': {'left_eye': (266, 224), 'right_eye': (292, 226), 'nose': (277, 240), 'mouth_left': (266, 250), 'mouth_right': (286, 253)}}] \n",
      "\n",
      "\n",
      "result:  [{'box': [524, 200, 105, 126], 'confidence': 0.9993610978126526, 'keypoints': {'left_eye': (545, 251), 'right_eye': (592, 246), 'nose': (566, 275), 'mouth_left': (558, 302), 'mouth_right': (596, 298)}}, {'box': [266, 205, 48, 64], 'confidence': 0.993191659450531, 'keypoints': {'left_eye': (280, 230), 'right_eye': (305, 234), 'nose': (290, 246), 'mouth_left': (278, 255), 'mouth_right': (299, 259)}}] \n",
      "\n"
     ]
    },
    {
     "name": "stdout",
     "output_type": "stream",
     "text": [
      "\n",
      "result:  [{'box': [525, 201, 105, 127], 'confidence': 0.9996063113212585, 'keypoints': {'left_eye': (545, 253), 'right_eye': (592, 247), 'nose': (566, 276), 'mouth_left': (558, 305), 'mouth_right': (596, 299)}}, {'box': [262, 206, 50, 65], 'confidence': 0.998857855796814, 'keypoints': {'left_eye': (278, 230), 'right_eye': (303, 234), 'nose': (289, 247), 'mouth_left': (275, 256), 'mouth_right': (296, 261)}}] \n",
      "\n",
      "\n",
      "result:  [{'box': [524, 201, 105, 125], 'confidence': 0.9994677901268005, 'keypoints': {'left_eye': (545, 253), 'right_eye': (591, 247), 'nose': (566, 276), 'mouth_left': (558, 304), 'mouth_right': (595, 299)}}, {'box': [261, 204, 51, 65], 'confidence': 0.9954813718795776, 'keypoints': {'left_eye': (276, 230), 'right_eye': (301, 234), 'nose': (286, 247), 'mouth_left': (274, 256), 'mouth_right': (295, 260)}}] \n",
      "\n",
      "\n",
      "result:  [{'box': [523, 202, 105, 123], 'confidence': 0.999711811542511, 'keypoints': {'left_eye': (544, 253), 'right_eye': (591, 246), 'nose': (565, 276), 'mouth_left': (558, 303), 'mouth_right': (596, 298)}}, {'box': [261, 206, 51, 65], 'confidence': 0.9977784752845764, 'keypoints': {'left_eye': (276, 231), 'right_eye': (301, 235), 'nose': (286, 247), 'mouth_left': (273, 256), 'mouth_right': (294, 261)}}] \n",
      "\n",
      "\n",
      "result:  [{'box': [521, 201, 101, 120], 'confidence': 0.9994010925292969, 'keypoints': {'left_eye': (544, 251), 'right_eye': (589, 246), 'nose': (565, 275), 'mouth_left': (557, 301), 'mouth_right': (593, 295)}}, {'box': [261, 205, 51, 66], 'confidence': 0.9963915944099426, 'keypoints': {'left_eye': (276, 232), 'right_eye': (301, 235), 'nose': (287, 248), 'mouth_left': (273, 257), 'mouth_right': (295, 261)}}] \n",
      "\n",
      "\n",
      "result:  [{'box': [518, 201, 102, 122], 'confidence': 0.9998012185096741, 'keypoints': {'left_eye': (540, 251), 'right_eye': (587, 245), 'nose': (563, 273), 'mouth_left': (554, 300), 'mouth_right': (592, 296)}}, {'box': [261, 205, 52, 66], 'confidence': 0.9948465824127197, 'keypoints': {'left_eye': (276, 231), 'right_eye': (301, 235), 'nose': (287, 248), 'mouth_left': (274, 258), 'mouth_right': (295, 262)}}] \n",
      "\n",
      "\n",
      "result:  [{'box': [261, 204, 52, 68], 'confidence': 0.9940599203109741, 'keypoints': {'left_eye': (276, 231), 'right_eye': (301, 235), 'nose': (286, 248), 'mouth_left': (273, 258), 'mouth_right': (295, 261)}}, {'box': [511, 199, 98, 126], 'confidence': 0.9877082109451294, 'keypoints': {'left_eye': (526, 250), 'right_eye': (566, 245), 'nose': (538, 274), 'mouth_left': (533, 299), 'mouth_right': (569, 295)}}, {'box': [0, 32, 74, 96], 'confidence': 0.78006911277771, 'keypoints': {'left_eye': (30, 65), 'right_eye': (65, 77), 'nose': (45, 90), 'mouth_left': (18, 102), 'mouth_right': (49, 113)}}] \n",
      "\n",
      "\n",
      "result:  [{'box': [262, 209, 51, 64], 'confidence': 0.9995297193527222, 'keypoints': {'left_eye': (275, 232), 'right_eye': (301, 235), 'nose': (286, 247), 'mouth_left': (274, 258), 'mouth_right': (294, 262)}}, {'box': [514, 195, 94, 122], 'confidence': 0.9903665781021118, 'keypoints': {'left_eye': (527, 247), 'right_eye': (565, 241), 'nose': (534, 263), 'mouth_left': (531, 293), 'mouth_right': (565, 289)}}, {'box': [0, 33, 69, 89], 'confidence': 0.7721638083457947, 'keypoints': {'left_eye': (26, 63), 'right_eye': (59, 73), 'nose': (39, 87), 'mouth_left': (17, 100), 'mouth_right': (46, 109)}}] \n",
      "\n"
     ]
    }
   ],
   "source": [
    "cap = cv2.VideoCapture(0)\n",
    "\n",
    "while True:\n",
    "    # capture frame by frame\n",
    "    \n",
    "    _, frame = cap.read()\n",
    "    \n",
    "    # use MTCNN to detect faces\n",
    "    result = detector.detect_faces(frame)\n",
    "    \n",
    "    if result != []:\n",
    "        for person in result:\n",
    "            bounding_box = person['box']\n",
    "            keypoints = person['keypoints']\n",
    "            \n",
    "            cv2.rectangle(frame,\n",
    "                          (bounding_box[0], bounding_box[1]),\n",
    "                          (bounding_box[0]+ bounding_box[2], bounding_box[1]+ bounding_box[3]),\n",
    "                          (0, 155, 255),\n",
    "                          2\n",
    "                         )\n",
    "            cv2.circle(frame, (keypoints['left_eye']), 2, (0, 155, 255), 2)\n",
    "            cv2.circle(frame, (keypoints['right_eye']), 2, (0, 155, 255), 2)\n",
    "            cv2.circle(frame, (keypoints['nose']), 2, (0, 155, 255), 2)\n",
    "            cv2.circle(frame, (keypoints['mouth_left']), 2, (0, 155, 255), 2)\n",
    "            cv2.circle(frame, (keypoints['mouth_right']), 2, (0, 155, 255), 2)\n",
    "            \n",
    "        # display resulting frame\n",
    "        cv2.imshow('frame', frame)\n",
    "        \n",
    "        print(\"\\nresult: \", result,\"\\n\")\n",
    "            \n",
    "        if cv2.waitKey(1) &0xFF == ord('q'):\n",
    "            break\n",
    "            \n",
    "# when everythings done, release capture\n",
    "cap.release()\n",
    "cv2.destroyAllWindows()"
   ]
  },
  {
   "cell_type": "markdown",
   "metadata": {},
   "source": [
    "## MTCNN on File Image"
   ]
  },
  {
   "cell_type": "code",
   "execution_count": 1,
   "metadata": {},
   "outputs": [
    {
     "name": "stdout",
     "output_type": "stream",
     "text": [
      "0.0.9\n"
     ]
    }
   ],
   "source": [
    "# import the library\n",
    "import mtcnn\n",
    "\n",
    "print(mtcnn.__version__)"
   ]
  },
  {
   "cell_type": "code",
   "execution_count": 8,
   "metadata": {},
   "outputs": [],
   "source": [
    "from PIL import Image\n",
    "from numpy import asarray\n",
    "from mtcnn.mtcnn import MTCNN\n",
    "\n",
    "# extract face from a given photo\n",
    "def extract_face(filename, required_size = (160, 160)):\n",
    "    \n",
    "    # load an image from file\n",
    "    image = Image.open(filename)\n",
    "    # convert to RGB, if need\n",
    "    image = image.convert('RGB')\n",
    "    # convert to array\n",
    "    pixels = asarray(image)\n",
    "    \n",
    "    # create detector using default weights\n",
    "    detector = MTCNN()\n",
    "    \n",
    "    # detect faces in an image \n",
    "    results = detector.detect_faces(pixels)\n",
    "    # extract bounding box from the 1st face\n",
    "    x1, y1, width, height = results[0]['box']\n",
    "    \n",
    "    # return abs values \n",
    "    x1, y1 = abs(x1), abs(y1)\n",
    "    x2, y2 = x1 + width, y1 + height\n",
    "    \n",
    "    # extract the face\n",
    "    face = pixels[y1:y2, x1:x2]\n",
    "    \n",
    "    # resize pixels to the model size\n",
    "    image = Image.fromarray(face)\n",
    "    image = image.resize(required_size)\n",
    "    face_array = asarray(image)\n",
    "    \n",
    "    return face_array"
   ]
  },
  {
   "cell_type": "code",
   "execution_count": 10,
   "metadata": {},
   "outputs": [],
   "source": [
    "# load the photo and extract the face\n",
    "pixels = extract_face('rex.jpg')"
   ]
  },
  {
   "cell_type": "code",
   "execution_count": 13,
   "metadata": {},
   "outputs": [
    {
     "data": {
      "image/png": "[encoded data removed]",
      "text/plain": [
       "<Figure size 432x288 with 1 Axes>"
      ]
     },
     "metadata": {
      "needs_background": "light"
     },
     "output_type": "display_data"
    }
   ],
   "source": [
    "# load/show image\n",
    "from matplotlib import pyplot\n",
    "\n",
    "pyplot.imshow(pixels.astype('uint8'))\n",
    "pyplot.show()"
   ]
  },
  {
   "cell_type": "code",
   "execution_count": null,
   "metadata": {},
   "outputs": [],
   "source": []
  }
 ],
 "metadata": {
  "kernelspec": {
   "display_name": "Python 3",
   "language": "python",
   "name": "python3"
  },
  "language_info": {
   "codemirror_mode": {
    "name": "ipython",
    "version": 3
   },
   "file_extension": ".py",
   "mimetype": "text/x-python",
   "name": "python",
   "nbconvert_exporter": "python",
   "pygments_lexer": "ipython3",
   "version": "3.6.8"
  }
 },
 "nbformat": 4,
 "nbformat_minor": 2
}
